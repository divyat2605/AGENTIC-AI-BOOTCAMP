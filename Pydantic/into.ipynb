{
 "cells": [
  {
   "cell_type": "markdown",
   "id": "ed5e5793",
   "metadata": {},
   "source": [
    "Pydantic Basics: Creating and Using Model\n",
    "\n",
    "Pydantic models are the foundation of data validation in Python. They use python type annotations to define the structure and validate data at runtime.\n",
    "\n"
   ]
  },
  {
   "cell_type": "code",
   "execution_count": 61,
   "id": "563b6517",
   "metadata": {},
   "outputs": [],
   "source": [
    "from pydantic import BaseModel"
   ]
  },
  {
   "cell_type": "code",
   "execution_count": 62,
   "id": "32c9d77f",
   "metadata": {},
   "outputs": [
    {
     "name": "stdout",
     "output_type": "stream",
     "text": [
      "Person(name='krish', age=19, city='Delhi')\n"
     ]
    },
    {
     "data": {
      "text/plain": [
       "__main__.Person"
      ]
     },
     "execution_count": 62,
     "metadata": {},
     "output_type": "execute_result"
    }
   ],
   "source": [
    "from dataclasses import dataclass\n",
    "@dataclass\n",
    "class Person():\n",
    "    name: str\n",
    "    age : int \n",
    "    city:str\n",
    "person = Person(name = \"krish\", age = 19, city = \"Delhi\")\n",
    "print(person)\n",
    "type(person)"
   ]
  },
  {
   "cell_type": "code",
   "execution_count": 63,
   "id": "0f23990e",
   "metadata": {},
   "outputs": [
    {
     "name": "stdout",
     "output_type": "stream",
     "text": [
      "Person(name='Advyukt', age='nineteen', city='34')\n"
     ]
    }
   ],
   "source": [
    "person2 = Person(name = \"Advyukt\", age = \"nineteen\", city = \"34\")\n",
    "print(person2)\n",
    "#Here, the data validation is not at all happening."
   ]
  },
  {
   "cell_type": "code",
   "execution_count": 64,
   "id": "5e2322f0",
   "metadata": {},
   "outputs": [
    {
     "name": "stdout",
     "output_type": "stream",
     "text": [
      "name='Krish' age=19 city='Delhi'\n"
     ]
    }
   ],
   "source": [
    "class Person(BaseModel): #this person class is inheriting from the base model\n",
    "    name:str   #we are defining the data types of the variable \n",
    "    age: int\n",
    "    city:str \n",
    "#I'll create an instance\n",
    "person = Person (name = \"Krish\", age = 19, city = \"Delhi\")\n",
    "print(person)"
   ]
  },
  {
   "cell_type": "code",
   "execution_count": 65,
   "id": "3e033b32",
   "metadata": {},
   "outputs": [
    {
     "data": {
      "text/plain": [
       "__main__.Person"
      ]
     },
     "execution_count": 65,
     "metadata": {},
     "output_type": "execute_result"
    }
   ],
   "source": [
    "type(person)"
   ]
  },
  {
   "cell_type": "markdown",
   "id": "c475aec6",
   "metadata": {},
   "source": [
    "What's so different?"
   ]
  },
  {
   "cell_type": "code",
   "execution_count": 66,
   "id": "a78d9286",
   "metadata": {},
   "outputs": [],
   "source": [
    "#person1 = Person(name = \"Advyukt\", age = \"nineteen\", city = \"34\")\n",
    "#print(person1)\n",
    "#You'll get a validation error "
   ]
  },
  {
   "cell_type": "markdown",
   "id": "8064e3d8",
   "metadata": {},
   "source": [
    "2. Model with Optional Fields\n",
    "Add optional fields using Python's Optional type:\n"
   ]
  },
  {
   "cell_type": "code",
   "execution_count": 67,
   "id": "71c51f91",
   "metadata": {},
   "outputs": [],
   "source": [
    "from typing import Optional\n",
    "class Employee(BaseModel):\n",
    "    id: str\n",
    "    name: str\n",
    "    department: str \n",
    "    salary: Optional[float] = None #optional float value with default value \n",
    "    is_active: Optional[bool] = True #optional with default value true \n",
    "\n"
   ]
  },
  {
   "cell_type": "markdown",
   "id": "4e08773f",
   "metadata": {},
   "source": [
    "Examples with and without optional fields"
   ]
  },
  {
   "cell_type": "code",
   "execution_count": 68,
   "id": "9760b620",
   "metadata": {},
   "outputs": [
    {
     "name": "stdout",
     "output_type": "stream",
     "text": [
      "id='1' name='Divya' department='Computer Science' salary=None is_active=True\n"
     ]
    }
   ],
   "source": [
    "emp1 = Employee(id = \"1\", name = \"Divya\", department = \"Computer Science\")\n",
    "print(emp1)"
   ]
  },
  {
   "cell_type": "code",
   "execution_count": 69,
   "id": "f9ab4070",
   "metadata": {},
   "outputs": [],
   "source": [
    "emp2 = Employee(id = \"2\", name = \"Disha\", department = \"mechanical\", salary=\"10000000.00\", is_active= True)"
   ]
  },
  {
   "cell_type": "code",
   "execution_count": 70,
   "id": "d9dab76e",
   "metadata": {},
   "outputs": [
    {
     "name": "stdout",
     "output_type": "stream",
     "text": [
      "id='2' name='Disha' department='mechanical' salary=10000000.0 is_active=True\n"
     ]
    }
   ],
   "source": [
    "emp3 = Employee(id = \"2\", name = \"Disha\", department = \"mechanical\", salary=\"10000000\", is_active= True)\n",
    "print(emp3) #automatic typecasting will also happen into float"
   ]
  },
  {
   "cell_type": "markdown",
   "id": "f3b543aa",
   "metadata": {},
   "source": [
    "### Definition:\n",
    "- Optional[type] : Indicates the field can be None\n",
    "- Default value (=None or = True): Makes the field optional \n",
    "- Required fields muts still be provided\n",
    "- Pydantic validates data types even for optional fields\n",
    "when values  are provided\n"
   ]
  },
  {
   "cell_type": "code",
   "execution_count": 71,
   "id": "aa70654b",
   "metadata": {},
   "outputs": [],
   "source": [
    "# We can also create a model with list values or list fields\n",
    "from pydantic import BaseModel\n",
    "from typing import List \n",
    "class Classroom(BaseModel):\n",
    "    room_number:str\n",
    "    students: List[str] #List of string values \n",
    "    capacity: int \n",
    "#Since, we are inheriting this base model, the data validation will be applied to all these variable \n"
   ]
  },
  {
   "cell_type": "code",
   "execution_count": 72,
   "id": "8e47c922",
   "metadata": {},
   "outputs": [
    {
     "name": "stdout",
     "output_type": "stream",
     "text": [
      "room_number='23' students=['Lisa', 'Prem', 'Yaani'] capacity=53\n"
     ]
    }
   ],
   "source": [
    "#Create a classroom\n",
    "classroom = Classroom(\n",
    "    room_number= \"23\",\n",
    "    students= (\"Lisa\",\"Prem\", \"Yaani\"), #type-casting will also happen\n",
    "    capacity= 53\n",
    ")\n",
    "print(classroom)"
   ]
  },
  {
   "cell_type": "markdown",
   "id": "f81bb54b",
   "metadata": {},
   "source": [
    "What will happen if instead of string, I'll provide an integer value. Let's try this with a try-catch block."
   ]
  },
  {
   "cell_type": "code",
   "execution_count": 73,
   "id": "cc4d922b",
   "metadata": {},
   "outputs": [
    {
     "name": "stdout",
     "output_type": "stream",
     "text": [
      "1 validation error for Classroom\n",
      "students.1\n",
      "  Input should be a valid string [type=string_type, input_value=123, input_type=int]\n",
      "    For further information visit https://errors.pydantic.dev/2.11/v/string_type\n"
     ]
    }
   ],
   "source": [
    "try:\n",
    "    invalid_val= Classroom(room_number=\"A1\", students = [\"Krish\", 123], capacity=30)\n",
    "except ValueError as e:\n",
    "    print(e)     #we know, we'll be getting a validation error \n",
    " #this is happening bcos of pydantic"
   ]
  },
  {
   "cell_type": "markdown",
   "id": "088a3843",
   "metadata": {},
   "source": [
    "#### 4. Model with Nested Models\n",
    "\n",
    "Create complex structure with nested models."
   ]
  },
  {
   "cell_type": "code",
   "execution_count": 74,
   "id": "8a26e11e",
   "metadata": {},
   "outputs": [
    {
     "name": "stdout",
     "output_type": "stream",
     "text": [
      "customer_id=1 name='Emma' address=Address(street='123 Main ST', city='Boston', zip_code=2108)\n"
     ]
    }
   ],
   "source": [
    "from pydantic import BaseModel\n",
    "\n",
    "class Address(BaseModel):\n",
    "    street: str\n",
    "    city: str\n",
    "    zip_code: int\n",
    "class Customer(BaseModel):\n",
    "    customer_id: int\n",
    "    name: str\n",
    "    address: Address #Nested Model\n",
    "\n",
    "#Create a customer with nested address\n",
    "customer = Customer(customer_id = 1, name = \"Emma\", \n",
    "                    address = {\"street\" : \"123 Main ST\", \"city\" : \"Boston\", \"zip_code\" :\"02108\"})\n",
    "print(customer)\n",
    "#Address I'm specifying in form of key-value pair \n",
    "#Zip Code will get type casted\n"
   ]
  },
  {
   "cell_type": "markdown",
   "id": "0ad710d3",
   "metadata": {},
   "source": [
    "Pydantic Fields: Customization and Constraints \n",
    "- The field function in pydantic enhances model fields beyond basic type hints by allowing you to specify validation rules, default values, aliases, and more."
   ]
  },
  {
   "cell_type": "code",
   "execution_count": 75,
   "id": "e1dc525e",
   "metadata": {},
   "outputs": [
    {
     "name": "stdout",
     "output_type": "stream",
     "text": [
      "name='Book' price=29.99 quantity=10\n"
     ]
    }
   ],
   "source": [
    "from pydantic import BaseModel,Field\n",
    "class Item(BaseModel):\n",
    "    name:str=Field(min_length=2,max_length=50)\n",
    "    #these are some kind of constraints on top of that validation that basically happens right\n",
    "    price:float=Field(gt=0, le =10000)\n",
    "    quantity:int = Field(ge=0, le = 50000)\n",
    "#valid instance \n",
    "item = Item(name = \"Book\", price = 29.99, quantity = 10)\n",
    "print(item)\n",
    "\n"
   ]
  },
  {
   "cell_type": "code",
   "execution_count": 76,
   "id": "806a366c",
   "metadata": {},
   "outputs": [
    {
     "name": "stdout",
     "output_type": "stream",
     "text": [
      "username='alice' age=18 email='user@example.com'\n",
      "username='sam' age=19 email='dt789@srm.in'\n"
     ]
    }
   ],
   "source": [
    "from pydantic import BaseModel, Field\n",
    "class User(BaseModel):\n",
    "    username: str = Field(..., description=\"Unique username for the user\")\n",
    "    age:int = Field(default = 18, description=\"User age, defaults to 18\")\n",
    "    email:str = Field(default_factory=lambda: \"user@example.com\", description=\"Default email address\")\n",
    "\n",
    "    #Examples\n",
    "user1 = User(username = \"alice\")\n",
    "print(user1)\n",
    "user2 = User(username = \"sam\", age = 19, email = \"dt789@srm.in\")\n",
    "print(user2)"
   ]
  },
  {
   "cell_type": "code",
   "execution_count": 77,
   "id": "03017a30",
   "metadata": {},
   "outputs": [
    {
     "name": "stdout",
     "output_type": "stream",
     "text": [
      "{'properties': {'username': {'description': 'Unique username for the user', 'title': 'Username', 'type': 'string'}, 'age': {'default': 18, 'description': 'User age, defaults to 18', 'title': 'Age', 'type': 'integer'}, 'email': {'description': 'Default email address', 'title': 'Email', 'type': 'string'}}, 'required': ['username'], 'title': 'User', 'type': 'object'}\n"
     ]
    }
   ],
   "source": [
    "print(User.model_json_schema()) #This will give you the JSON schema of the model\n"
   ]
  },
  {
   "cell_type": "code",
   "execution_count": null,
   "id": "5db32224",
   "metadata": {},
   "outputs": [],
   "source": []
  }
 ],
 "metadata": {
  "kernelspec": {
   "display_name": ".venv",
   "language": "python",
   "name": "python3"
  },
  "language_info": {
   "codemirror_mode": {
    "name": "ipython",
    "version": 3
   },
   "file_extension": ".py",
   "mimetype": "text/x-python",
   "name": "python",
   "nbconvert_exporter": "python",
   "pygments_lexer": "ipython3",
   "version": "3.12.5"
  }
 },
 "nbformat": 4,
 "nbformat_minor": 5
}
